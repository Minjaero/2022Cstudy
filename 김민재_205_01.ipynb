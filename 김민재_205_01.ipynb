{
  "nbformat": 4,
  "nbformat_minor": 0,
  "metadata": {
    "colab": {
      "provenance": [],
      "include_colab_link": true
    },
    "kernelspec": {
      "name": "python3",
      "display_name": "Python 3"
    },
    "language_info": {
      "name": "python"
    }
  },
  "cells": [
    {
      "cell_type": "markdown",
      "metadata": {
        "id": "view-in-github",
        "colab_type": "text"
      },
      "source": [
        "<a href=\"https://colab.research.google.com/github/Minjaero/2022Cstudy/blob/main/%EA%B9%80%EB%AF%BC%EC%9E%AC_205_01.ipynb\" target=\"_parent\"><img src=\"https://colab.research.google.com/assets/colab-badge.svg\" alt=\"Open In Colab\"/></a>"
      ]
    },
    {
      "cell_type": "code",
      "source": [
        "print(\"Hello, World!\")"
      ],
      "metadata": {
        "colab": {
          "base_uri": "https://localhost:8080/"
        },
        "id": "_PHvAW_DuML9",
        "outputId": "060600e0-a4e8-435c-b2ea-51ef4d26430b"
      },
      "execution_count": 10,
      "outputs": [
        {
          "output_type": "stream",
          "name": "stdout",
          "text": [
            "Hello, World!\n"
          ]
        }
      ]
    },
    {
      "cell_type": "code",
      "source": [
        "print(3+4)"
      ],
      "metadata": {
        "colab": {
          "base_uri": "https://localhost:8080/"
        },
        "id": "rbfYvXiDvJ5w",
        "outputId": "209b6a42-6a54-4a7a-c737-da649c217672"
      },
      "execution_count": 11,
      "outputs": [
        {
          "output_type": "stream",
          "name": "stdout",
          "text": [
            "7\n"
          ]
        }
      ]
    },
    {
      "cell_type": "code",
      "source": [
        "value = 1234\n",
        "print(value)\n",
        "print(value + 100)"
      ],
      "metadata": {
        "colab": {
          "base_uri": "https://localhost:8080/"
        },
        "id": "97g3ObWmvQym",
        "outputId": "dbc6cd15-7674-4713-8b4d-b063730230bb"
      },
      "execution_count": 13,
      "outputs": [
        {
          "output_type": "stream",
          "name": "stdout",
          "text": [
            "1234\n",
            "1334\n"
          ]
        }
      ]
    },
    {
      "cell_type": "code",
      "source": [
        "print(3+4)\n",
        "print (4 * 5)\n",
        "a = 1\n",
        "b = 2\n",
        "print(a+b)"
      ],
      "metadata": {
        "colab": {
          "base_uri": "https://localhost:8080/"
        },
        "id": "d0FsAyqGvR_V",
        "outputId": "3e94ad24-a0a6-41be-8f95-77516db83cde"
      },
      "execution_count": 19,
      "outputs": [
        {
          "output_type": "stream",
          "name": "stdout",
          "text": [
            "7\n",
            "20\n",
            "3\n"
          ]
        }
      ]
    },
    {
      "cell_type": "code",
      "source": [
        "a =  '강아지'\n",
        "b =  '고양이'\n",
        "print(a)\n",
        "print(b)"
      ],
      "metadata": {
        "colab": {
          "base_uri": "https://localhost:8080/"
        },
        "id": "DvDYxeXNvhh1",
        "outputId": "0ccc6b42-56db-45d8-859b-d673e62f2fc9"
      },
      "execution_count": 15,
      "outputs": [
        {
          "output_type": "stream",
          "name": "stdout",
          "text": [
            "강아지\n",
            "고양이\n"
          ]
        }
      ]
    },
    {
      "cell_type": "code",
      "source": [
        "print('*         * ')\n",
        "print(' *       * ')\n",
        "print('  *     *  ')\n",
        "print('   *   *   ')\n",
        "print('     *     ')"
      ],
      "metadata": {
        "colab": {
          "base_uri": "https://localhost:8080/"
        },
        "id": "7aEBNxIcvrBO",
        "outputId": "32cd4a75-dd4a-4795-b293-0d86d79c3d1e"
      },
      "execution_count": 24,
      "outputs": [
        {
          "output_type": "stream",
          "name": "stdout",
          "text": [
            "*         * \n",
            " *       * \n",
            "  *     *  \n",
            "   *   *   \n",
            "     *     \n"
          ]
        }
      ]
    },
    {
      "cell_type": "code",
      "source": [
        "a = '강아지'\n",
        "b = '고양이'\n",
        "print(a, end = ' ')\n",
        "print(b)"
      ],
      "metadata": {
        "colab": {
          "base_uri": "https://localhost:8080/"
        },
        "id": "4PlAdfFe39bi",
        "outputId": "f4cb469b-87d9-4988-9200-3dc3323c9244"
      },
      "execution_count": 25,
      "outputs": [
        {
          "output_type": "stream",
          "name": "stdout",
          "text": [
            "강아지 고양이\n"
          ]
        }
      ]
    },
    {
      "cell_type": "code",
      "source": [
        "print(34, end = '^^')\n",
        "print(78)"
      ],
      "metadata": {
        "colab": {
          "base_uri": "https://localhost:8080/"
        },
        "id": "ShAKlmnm4Nlw",
        "outputId": "172261ea-dfd4-42e0-c164-108455b9892d"
      },
      "execution_count": 26,
      "outputs": [
        {
          "output_type": "stream",
          "name": "stdout",
          "text": [
            "34^^78\n"
          ]
        }
      ]
    },
    {
      "cell_type": "code",
      "source": [
        "a =12\n",
        "b =34\n",
        "print(a, b)"
      ],
      "metadata": {
        "colab": {
          "base_uri": "https://localhost:8080/"
        },
        "id": "UtAkHr78411S",
        "outputId": "2479c76a-1fb0-4f37-d881-91842f9bc1fe"
      },
      "execution_count": 28,
      "outputs": [
        {
          "output_type": "stream",
          "name": "stdout",
          "text": [
            "12 34\n"
          ]
        }
      ]
    },
    {
      "cell_type": "code",
      "source": [
        "a = 12\n",
        "b =34\n",
        "print(a, b, sep= ',')"
      ],
      "metadata": {
        "colab": {
          "base_uri": "https://localhost:8080/"
        },
        "id": "QUi090AJ7MA6",
        "outputId": "8fe0e599-d8ea-4722-8003-2f73f2150c81"
      },
      "execution_count": 29,
      "outputs": [
        {
          "output_type": "stream",
          "name": "stdout",
          "text": [
            "12,34\n"
          ]
        }
      ]
    },
    {
      "cell_type": "code",
      "source": [
        "s = '서울'\n",
        "d = '대전'\n",
        "g = '대구'\n",
        "b = '부산'\n",
        "print(s, d, g, b, sep = ' 찍고 ')\n"
      ],
      "metadata": {
        "colab": {
          "base_uri": "https://localhost:8080/"
        },
        "id": "vsO-IQrx7Vbs",
        "outputId": "366fefbc-8f26-4a02-9e4a-3db01a0f1170"
      },
      "execution_count": 31,
      "outputs": [
        {
          "output_type": "stream",
          "name": "stdout",
          "text": [
            "서울 찍고 대전 찍고 대구 찍고 부산\n"
          ]
        }
      ]
    },
    {
      "cell_type": "code",
      "source": [
        "print(12, 34, 56, sep ='^^' , end = '-->')\n",
        "print(78)"
      ],
      "metadata": {
        "colab": {
          "base_uri": "https://localhost:8080/"
        },
        "id": "08UDRO818VsD",
        "outputId": "d26a81a5-4d98-44d3-9d61-4b8e6fe28920"
      },
      "execution_count": 33,
      "outputs": [
        {
          "output_type": "stream",
          "name": "stdout",
          "text": [
            "12^^34^^56-->78\n"
          ]
        }
      ]
    },
    {
      "cell_type": "code",
      "source": [
        "a = 13\n",
        "b = 21\n",
        "print(a, b)\n",
        "print(a + b)\n",
        "print(a, b, end='')\n",
        "print(a, b, sep='')"
      ],
      "metadata": {
        "colab": {
          "base_uri": "https://localhost:8080/"
        },
        "id": "1R86JfHX8sSi",
        "outputId": "3ba96d26-a245-40d2-a9dc-0e944df7fb69"
      },
      "execution_count": 36,
      "outputs": [
        {
          "output_type": "stream",
          "name": "stdout",
          "text": [
            "13 21\n",
            "34\n",
            "13 211321\n"
          ]
        }
      ]
    },
    {
      "cell_type": "code",
      "source": [
        "age = input(\"몇 살이세요?\")\n",
        "print(age)"
      ],
      "metadata": {
        "colab": {
          "base_uri": "https://localhost:8080/"
        },
        "id": "N_VlXl7AFjdF",
        "outputId": "c416652a-24dc-4661-9c6b-aec876c62fec"
      },
      "execution_count": 38,
      "outputs": [
        {
          "output_type": "stream",
          "name": "stdout",
          "text": [
            "몇 살이세요?18\n",
            "18\n"
          ]
        }
      ]
    },
    {
      "cell_type": "code",
      "source": [
        "name = input(\"이름을 입력하세요:\")\n",
        "print(\"안녕하세요\", name, \"님!\")"
      ],
      "metadata": {
        "colab": {
          "base_uri": "https://localhost:8080/"
        },
        "id": "-_gjByK2F__8",
        "outputId": "92163165-f7e2-4e20-839b-466762034915"
      },
      "execution_count": 44,
      "outputs": [
        {
          "output_type": "stream",
          "name": "stdout",
          "text": [
            "이름을 입력하세요김민재\n",
            "안녕하세요 김민재 님!\n"
          ]
        }
      ]
    },
    {
      "cell_type": "code",
      "source": [
        "a= input(\"첫 번째 과일 입력:\")\n",
        "b= input(\"두 번째 과일 입력.\")\n",
        "print(a, '와(과)' ,b, '은(는) 내가 좋아하는 과일이다.')"
      ],
      "metadata": {
        "colab": {
          "base_uri": "https://localhost:8080/"
        },
        "id": "TD6vdc8MG6Ud",
        "outputId": "fed03b17-6600-4836-e59e-9b7aa691c67e"
      },
      "execution_count": 49,
      "outputs": [
        {
          "output_type": "stream",
          "name": "stdout",
          "text": [
            "첫 번째 과일 입력:수박\n",
            "두 번째 과일 입력.사과\n",
            "수박 와(과) 사과 은(는) 내가 좋아하는 과일이다.\n"
          ]
        }
      ]
    },
    {
      "cell_type": "code",
      "source": [
        "year = input('몇 년도?')\n",
        "month= input('몇 월?')\n",
        "day= input('몇 일?')\n",
        "print(year, month, day, sep=\" . \")"
      ],
      "metadata": {
        "colab": {
          "base_uri": "https://localhost:8080/"
        },
        "id": "2Ji8t9xlH05U",
        "outputId": "c71bbac6-b02c-4189-9838-59499ff348ee"
      },
      "execution_count": 50,
      "outputs": [
        {
          "output_type": "stream",
          "name": "stdout",
          "text": [
            "몇 년도?2023\n",
            "몇 월?3\n",
            "몇 일?9\n",
            "2023 . 3 . 9\n"
          ]
        }
      ]
    },
    {
      "cell_type": "code",
      "source": [
        "age = input('몇 살이세요?')\n",
        "age = int(age)\n",
        "print(age + age) "
      ],
      "metadata": {
        "colab": {
          "base_uri": "https://localhost:8080/"
        },
        "id": "q4f_C5OFKq1e",
        "outputId": "cb1e3471-119e-483d-b249-6a7720cf0f43"
      },
      "execution_count": 54,
      "outputs": [
        {
          "output_type": "stream",
          "name": "stdout",
          "text": [
            "몇 살이세요?15\n",
            "30\n"
          ]
        }
      ]
    }
  ]
}